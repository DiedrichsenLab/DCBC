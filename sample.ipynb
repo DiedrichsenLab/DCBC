{
 "cells": [
  {
   "cell_type": "markdown",
   "metadata": {
    "collapsed": true
   },
   "source": [
    "# Demonstration of DCBC evaluation usage \n",
    "This notebook simulates the DCBC evaluation of a given cortical parcellation. \n",
    "\n",
    "## Installation and Requirments\n",
    "\n",
    "Ensure Python version >= 3.6 and pip installed on your system.\n",
    "\n",
    "- Install Python at https://www.python.org/downloads/\n",
    "- Install pip: https://pip.pypa.io/en/stable/installing/\n",
    "\n",
    "## Dependencies\n",
    "\n",
    "`pip install nibabel scipy numpy sklearn matplotlib`\n",
    "\n",
    "## Project structre\n",
    "\n",
    "```\n",
    "project/\n",
    "│   README.md\n",
    "│   eval_DCBC.py\n",
    "│   plotting.py\n",
    "│   sample.py\n",
    "│   sample.ipynb\n",
    "│\n",
    "└───distanceMatrix/\n",
    "│       disAvrg_sp.mat\n",
    "│       ...\n",
    "│   \n",
    "└───parcellations/\n",
    "│       └───random/\n",
    "│       │       Icosahedron-42.32k.L.label.gii\n",
    "│       │       ...\n",
    "│       AAL.32k.L.label.gii\n",
    "│       ...\n",
    "│   \n",
    "└───data/\n",
    "        s02\n",
    "        s03\n",
    "\t...\n",
    "\ts31\n",
    "```\n",
    "\n",
    "## Usage\n",
    "Below is the sample script of using the DCBC evaluation"
   ]
  },
  {
   "cell_type": "code",
   "execution_count": 1,
   "metadata": {},
   "outputs": [],
   "source": [
    "from eval_DCBC import DCBC\n",
    "from plotting import plot_wb_curve\n",
    "import nibabel as nb\n",
    "import numpy as np"
   ]
  },
  {
   "cell_type": "code",
   "execution_count": 2,
   "metadata": {},
   "outputs": [
    {
     "name": "stdout",
     "output_type": "stream",
     "text": [
      "Start evaluating DCBC sample code ...\n"
     ]
    },
    {
     "name": "stdout",
     "output_type": "stream",
     "text": [
      "evaluating s02 L ...\n"
     ]
    },
    {
     "name": "stdout",
     "output_type": "stream",
     "text": [
      "evaluating s03 L ...\n"
     ]
    },
    {
     "name": "stdout",
     "output_type": "stream",
     "text": [
      "evaluating s04 L ...\n"
     ]
    },
    {
     "name": "stdout",
     "output_type": "stream",
     "text": [
      "evaluating s06 L ...\n"
     ]
    },
    {
     "name": "stdout",
     "output_type": "stream",
     "text": [
      "evaluating s08 L ...\n"
     ]
    },
    {
     "name": "stdout",
     "output_type": "stream",
     "text": [
      "evaluating s09 L ...\n"
     ]
    },
    {
     "name": "stdout",
     "output_type": "stream",
     "text": [
      "evaluating s10 L ...\n"
     ]
    },
    {
     "name": "stdout",
     "output_type": "stream",
     "text": [
      "evaluating s12 L ...\n"
     ]
    },
    {
     "name": "stdout",
     "output_type": "stream",
     "text": [
      "evaluating s14 L ...\n"
     ]
    },
    {
     "name": "stdout",
     "output_type": "stream",
     "text": [
      "evaluating s15 L ...\n"
     ]
    },
    {
     "name": "stdout",
     "output_type": "stream",
     "text": [
      "evaluating s17 L ...\n"
     ]
    },
    {
     "name": "stdout",
     "output_type": "stream",
     "text": [
      "evaluating s18 L ...\n"
     ]
    },
    {
     "name": "stdout",
     "output_type": "stream",
     "text": [
      "evaluating s19 L ...\n"
     ]
    },
    {
     "name": "stdout",
     "output_type": "stream",
     "text": [
      "evaluating s20 L ...\n"
     ]
    },
    {
     "name": "stdout",
     "output_type": "stream",
     "text": [
      "evaluating s21 L ...\n"
     ]
    },
    {
     "name": "stdout",
     "output_type": "stream",
     "text": [
      "evaluating s22 L ...\n"
     ]
    },
    {
     "name": "stdout",
     "output_type": "stream",
     "text": [
      "evaluating s24 L ...\n"
     ]
    },
    {
     "name": "stdout",
     "output_type": "stream",
     "text": [
      "evaluating s25 L ...\n"
     ]
    },
    {
     "name": "stdout",
     "output_type": "stream",
     "text": [
      "evaluating s26 L ...\n"
     ]
    },
    {
     "name": "stdout",
     "output_type": "stream",
     "text": [
      "evaluating s27 L ...\n"
     ]
    },
    {
     "name": "stdout",
     "output_type": "stream",
     "text": [
      "evaluating s28 L ...\n"
     ]
    },
    {
     "name": "stdout",
     "output_type": "stream",
     "text": [
      "evaluating s29 L ...\n"
     ]
    },
    {
     "name": "stdout",
     "output_type": "stream",
     "text": [
      "evaluating s30 L ...\n"
     ]
    },
    {
     "name": "stdout",
     "output_type": "stream",
     "text": [
      "evaluating s31 L ...\n"
     ]
    }
   ],
   "source": [
    "print('Start evaluating DCBC sample code ...')\n",
    "\n",
    "# Load cortical parcellation from label.gii file\n",
    "mat = nb.load('parcellations/Power2011.32k.L.label.gii')\n",
    "parcels = [x.data for x in mat.darrays]\n",
    "parcels = np.reshape(parcels, (len(parcels[0]),))\n",
    "\n",
    "# Make sure the input parcels has a shape of (N,)\n",
    "T = DCBC(hems='L', maxDist=35, binWidth=1).evaluate(parcels)"
   ]
  },
  {
   "cell_type": "code",
   "execution_count": 3,
   "metadata": {},
   "outputs": [
    {
     "data": {
      "image/png": "[encoded data removed]",
      "text/plain": [
       "<Figure size 432x288 with 1 Axes>"
      ]
     },
     "metadata": {},
     "output_type": "display_data"
    }
   ],
   "source": [
    "# Plotting the within/between curve\n",
    "%matplotlib inline\n",
    "\n",
    "plot_wb_curve(T, path='data', hems='L')"
   ]
  },
  {
   "cell_type": "code",
   "execution_count": null,
   "metadata": {},
   "outputs": [],
   "source": []
  }
 ],
 "metadata": {
  "kernelspec": {
   "display_name": "Python 2",
   "language": "python",
   "name": "python2"
  },
  "language_info": {
   "codemirror_mode": {
    "name": "ipython",
    "version": 2
   },
   "file_extension": ".py",
   "mimetype": "text/x-python",
   "name": "python",
   "nbconvert_exporter": "python",
   "pygments_lexer": "ipython2",
   "version": "2.7.6"
  }
 },
 "nbformat": 4,
 "nbformat_minor": 0
}
