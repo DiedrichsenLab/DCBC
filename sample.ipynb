{
 "cells": [
  {
   "cell_type": "markdown",
   "metadata": {
    "collapsed": true
   },
   "source": [
    "# Demonstration of DCBC evaluation usage \n",
    "This notebook shows an example of a Distance controlled boundary coefficient (DCBC) evaluation of a cortical parcellation using the Multi-domain task battery (MDTB) functional dataset. \n",
    "\n",
    "## Installation and Requirments\n",
    "\n",
    "Ensure Python version >= 3.6 and pip installed on your system.\n",
    "\n",
    "- Install Python at https://www.python.org/downloads/\n",
    "- Install pip: https://pip.pypa.io/en/stable/installing/\n",
    "\n",
    "## Dependencies\n",
    "\n",
    "`pip install nibabel scipy numpy sklearn matplotlib`\n",
    "\n",
    "## Project structure\n",
    "\n",
    "```\n",
    "project/\n",
    "│   README.md\n",
    "│   eval_DCBC.py\n",
    "│   plotting.py\n",
    "│   sample.py\n",
    "│   sample.ipynb\n",
    "│\n",
    "└───distanceMatrix/\n",
    "│       disAvrg_sp.mat\n",
    "│       ...\n",
    "│   \n",
    "└───parcellations/\n",
    "│       └───random/\n",
    "│       │       Icosahedron-42.32k.L.label.gii\n",
    "│       │       ...\n",
    "│       AAL.32k.L.label.gii\n",
    "│       ...\n",
    "│   \n",
    "└───data/\n",
    "        s02\n",
    "        s03\n",
    "\t...\n",
    "\ts31\n",
    "```\n",
    "\n",
    "## Usage\n",
    "Below is a quick sample script of using the DCBC evaluation for evaluating `Power 2011` left hemisphere."
   ]
  },
  {
   "cell_type": "code",
   "execution_count": 3,
   "metadata": {},
   "outputs": [],
   "source": [
    "from eval_DCBC import DCBC\n",
    "from plotting import plot_wb_curve\n",
    "import nibabel as nb\n",
    "import numpy as np"
   ]
  },
  {
   "cell_type": "code",
   "execution_count": 5,
   "metadata": {},
   "outputs": [
    {
     "name": "stdout",
     "output_type": "stream",
     "text": [
      "Start evaluating DCBC sample code ...\n"
     ]
    },
    {
     "name": "stdout",
     "output_type": "stream",
     "text": [
      "evaluating s02 L ...\n"
     ]
    },
    {
     "name": "stdout",
     "output_type": "stream",
     "text": [
      "evaluating s03 L ...\n"
     ]
    },
    {
     "name": "stdout",
     "output_type": "stream",
     "text": [
      "evaluating s04 L ...\n"
     ]
    },
    {
     "name": "stdout",
     "output_type": "stream",
     "text": [
      "evaluating s06 L ...\n"
     ]
    },
    {
     "name": "stdout",
     "output_type": "stream",
     "text": [
      "evaluating s08 L ...\n"
     ]
    },
    {
     "name": "stdout",
     "output_type": "stream",
     "text": [
      "evaluating s09 L ...\n"
     ]
    },
    {
     "name": "stdout",
     "output_type": "stream",
     "text": [
      "evaluating s10 L ...\n"
     ]
    },
    {
     "name": "stdout",
     "output_type": "stream",
     "text": [
      "evaluating s12 L ...\n"
     ]
    },
    {
     "name": "stdout",
     "output_type": "stream",
     "text": [
      "evaluating s14 L ...\n"
     ]
    },
    {
     "name": "stdout",
     "output_type": "stream",
     "text": [
      "evaluating s15 L ...\n"
     ]
    },
    {
     "name": "stdout",
     "output_type": "stream",
     "text": [
      "evaluating s17 L ...\n"
     ]
    },
    {
     "name": "stdout",
     "output_type": "stream",
     "text": [
      "evaluating s18 L ...\n"
     ]
    },
    {
     "name": "stdout",
     "output_type": "stream",
     "text": [
      "evaluating s19 L ...\n"
     ]
    },
    {
     "name": "stdout",
     "output_type": "stream",
     "text": [
      "evaluating s20 L ...\n"
     ]
    },
    {
     "name": "stdout",
     "output_type": "stream",
     "text": [
      "evaluating s21 L ...\n"
     ]
    },
    {
     "name": "stdout",
     "output_type": "stream",
     "text": [
      "evaluating s22 L ...\n"
     ]
    },
    {
     "name": "stdout",
     "output_type": "stream",
     "text": [
      "evaluating s24 L ...\n"
     ]
    },
    {
     "name": "stdout",
     "output_type": "stream",
     "text": [
      "evaluating s25 L ...\n"
     ]
    },
    {
     "name": "stdout",
     "output_type": "stream",
     "text": [
      "evaluating s26 L ...\n"
     ]
    },
    {
     "name": "stdout",
     "output_type": "stream",
     "text": [
      "evaluating s27 L ...\n"
     ]
    },
    {
     "name": "stdout",
     "output_type": "stream",
     "text": [
      "evaluating s28 L ...\n"
     ]
    },
    {
     "name": "stdout",
     "output_type": "stream",
     "text": [
      "evaluating s29 L ...\n"
     ]
    },
    {
     "name": "stdout",
     "output_type": "stream",
     "text": [
      "evaluating s30 L ...\n"
     ]
    },
    {
     "name": "stdout",
     "output_type": "stream",
     "text": [
      "evaluating s31 L ...\n"
     ]
    }
   ],
   "source": [
    "print('Start evaluating DCBC sample code ...')\n",
    "\n",
    "# Load cortical parcellation from label.gii file\n",
    "gii_file = nb.load('parcellations/Power2011.32k.L.label.gii')\n",
    "# Extract the first data array as the parcels  \n",
    "# Make sure the input parcels has a shape of (N,)\n",
    "parcels = gii_file.darrays[0].data \n",
    "\n",
    "# Create a DCBC evaluation object of the desired evaluation parameters(left hemisphere)\n",
    "myDCBC = DCBC(hems='L', maxDist=35, binWidth=1, dist_file=\"distanceMatrix/distSphere_sp.mat\")\n",
    "\n",
    "# Do the valuation on the parcellation \n",
    "T = myDCBC.evaluate(parcels)"
   ]
  },
  {
   "cell_type": "code",
   "execution_count": 3,
   "metadata": {},
   "outputs": [
    {
     "data": {
      "image/png": "[encoded data removed]",
      "text/plain": [
       "<Figure size 432x288 with 1 Axes>"
      ]
     },
     "metadata": {},
     "output_type": "display_data"
    }
   ],
   "source": [
    "# Plotting the within/between curve\n",
    "%matplotlib inline\n",
    "\n",
    "plot_wb_curve(T, path='data', hems='L')"
   ]
  },
  {
   "cell_type": "markdown",
   "metadata": {},
   "source": [
    "## Breaking down (DCBC steps)\n",
    "\n",
    "**1. Choose an appropriate data set**\n",
    "\n",
    "To what goal we want to achieve, the underlying dataset can be varying in terms of the type (for example, we can carry out to use functional resting-state connectivity pattern if we want to know how good the given parcellation in predicting functional resting-state boundaries, see paper for more details). We start here of choosing an appropriate dataset."
   ]
  },
  {
   "cell_type": "markdown",
   "metadata": {},
   "source": [
    "The public `evaluate` function of class `DCBC` will iteratively scan all subject data `sxx` in the `data` folder. Structure as below.\n",
    "```\n",
    "project/\n",
    " └───data/\n",
    "        s02/\n",
    "\t |   s02.L.wbeta.32k.func.gii\n",
    "\t |   s02.R.wbeta.32k.func.gii\n",
    "\t...\n",
    "\ts31/\n",
    "\t |   s31.L.wbeta.32k.func.gii\n",
    "\t |   s31.R.wbeta.32k.func.gii\n",
    "\n",
    "```\n",
    "\n",
    "There are two connectivity profile in each of the subject folder `sxx` for left and right hemisphere, respectively. User can copy your own subject data into 'data' folder and make sure it follows the above structure. "
   ]
  },
  {
   "cell_type": "markdown",
   "metadata": {},
   "source": [
    "**2. Define and calculate distance metrics**\n",
    "\n",
    "The class `DCBC` will pass in parameter `dist_file` as private variable which represents the distance metric between all vertex/voxel pairs. We provide some pre-computed distance metrics at <a href=\"http://www.diedrichsenlab.org/\" target=\"_blank\">this link</a>. Or you can use helper function `compute_distance` to compute your own distance. For instance, the below code segmentation calculates the euclidean distance for each vertex pairs of HCP standard mesh of left hemisphere."
   ]
  },
  {
   "cell_type": "code",
   "execution_count": 1,
   "metadata": {},
   "outputs": [
    {
     "name": "stdout",
     "output_type": "stream",
     "text": [
      "(32492, 32492)\n"
     ]
    }
   ],
   "source": [
    "from compute_distance import compute_dist\n",
    "\n",
    "dist = compute_dist(files='parcellations/fs_LR_32k template/fs_LR.32k.L.sphere.surf.gii',type='euclidean',max_dist=50,dense=False)\n",
    "print(dist.shape)"
   ]
  },
  {
   "cell_type": "markdown",
   "metadata": {},
   "source": [
    "there are also few options to controll the ouput distance file. If `dense=True`, the output distance file will be converted to sparse matrix. It would be beneficial for the very large distance matrix. `max_dist` controlls the maximum distance between the vertex pairs to calculation. `type` indicates which distance kernel will be applied."
   ]
  },
  {
   "cell_type": "markdown",
   "metadata": {},
   "source": [
    "**3. Get the parcellation**\n",
    "\n",
    "We organized and provide several state-of-the-art or commonly used cortical parcellations in HCP standard fs-LR 32k template in `parcellations` folder. For the current version of DCBC project, we only support this template, the nifti file will be included soon in the updates. User can also copy own parcellation files to this folder."
   ]
  },
  {
   "cell_type": "code",
   "execution_count": 6,
   "metadata": {},
   "outputs": [
    {
     "name": "stdout",
     "output_type": "stream",
     "text": [
      "(32492,)\n"
     ]
    }
   ],
   "source": [
    "# Load cortical parcellation from label.gii file\n",
    "#  Extract the first data array as the parcels, make sure the input parcels has a shape of (N,)\n",
    "gii_file = nb.load('parcellations/Power2011.32k.L.label.gii')\n",
    "parcels = gii_file.darrays[0].data\n",
    "print(parcels.shape)"
   ]
  },
  {
   "cell_type": "markdown",
   "metadata": {},
   "source": [
    "**4. Define and compute similarity measures**\n",
    "\n",
    "In each iteration of the subject evaluation, DCBC computes the similarity matrix between each vertex for further comparison. User can also use helper function `compute_similarity` to calculate other similarity matrix. For example below:"
   ]
  },
  {
   "cell_type": "code",
   "execution_count": 1,
   "metadata": {},
   "outputs": [
    {
     "name": "stdout",
     "output_type": "stream",
     "text": [
      "[[ 1.         -0.04528929 -0.04379716 ...  0.12168833  0.16420421\n   0.18852623]\n [-0.04528929  1.         -0.25283196 ... -0.5744775  -0.3631204\n  -0.50815962]\n [-0.04379716 -0.25283196  1.         ...  0.15547672  0.2734931\n   0.29205011]\n ...\n [ 0.12168833 -0.5744775   0.15547672 ...  1.          0.74378955\n   0.94131895]\n [ 0.16420421 -0.3631204   0.2734931  ...  0.74378955  1.\n   0.86633487]\n [ 0.18852623 -0.50815962  0.29205011 ...  0.94131895  0.86633487\n   1.        ]]\n"
     ]
    },
    {
     "name": "stdout",
     "output_type": "stream",
     "text": [
      "(32492, 32492)\n"
     ]
    }
   ],
   "source": [
    "from compute_similarity import compute_similarity\n",
    "\n",
    "similarity = compute_similarity(files='data/s02/s02.L.wbeta.32k.func.gii', type='pearson', dense=False, mean_centering=True)\n",
    "print(similarity.shape)"
   ]
  },
  {
   "cell_type": "markdown",
   "metadata": {},
   "source": [
    "This example shows how to generate pearson's correlation for the functional connectiviy of subject 02's left hemisphere. Variable `type` controls the similarity kernel, e.g `cosine`, `pearson`. If `dense=True`, then the output will be dense matrix. If `mean_centering=True` then the subject's connectivity pattern will be mean centered before doing the calculation."
   ]
  },
  {
   "cell_type": "markdown",
   "metadata": {},
   "source": [
    "**5. Bin and integrate across bins**\n",
    "\n",
    "The parameter `binWidth` is essential to get a good evaluation result as we described in the paper. Default bin width was set to 1 mm as it is a good compromise between bias, variances, and computational cost. But this can be changed based on your distance file or others. Here we show an example of passing 2.5 mm bin width as a comparison to the 1 mm result."
   ]
  },
  {
   "cell_type": "code",
   "execution_count": 8,
   "metadata": {},
   "outputs": [
    {
     "name": "stdout",
     "output_type": "stream",
     "text": [
      "evaluating L hemisphere of  s02 \n"
     ]
    },
    {
     "name": "stdout",
     "output_type": "stream",
     "text": [
      "s03 \n"
     ]
    },
    {
     "name": "stdout",
     "output_type": "stream",
     "text": [
      "s04 \n"
     ]
    },
    {
     "name": "stdout",
     "output_type": "stream",
     "text": [
      "s06 \n"
     ]
    },
    {
     "name": "stdout",
     "output_type": "stream",
     "text": [
      "s08 \n"
     ]
    },
    {
     "name": "stdout",
     "output_type": "stream",
     "text": [
      "s09 \n"
     ]
    },
    {
     "name": "stdout",
     "output_type": "stream",
     "text": [
      "s10 \n"
     ]
    },
    {
     "name": "stdout",
     "output_type": "stream",
     "text": [
      "s12 \n"
     ]
    },
    {
     "name": "stdout",
     "output_type": "stream",
     "text": [
      "s14 \n"
     ]
    },
    {
     "name": "stdout",
     "output_type": "stream",
     "text": [
      "s15 \n"
     ]
    },
    {
     "name": "stdout",
     "output_type": "stream",
     "text": [
      "s17 \n"
     ]
    },
    {
     "name": "stdout",
     "output_type": "stream",
     "text": [
      "s18 \n"
     ]
    },
    {
     "name": "stdout",
     "output_type": "stream",
     "text": [
      "s19 \n"
     ]
    },
    {
     "name": "stdout",
     "output_type": "stream",
     "text": [
      "s20 \n"
     ]
    },
    {
     "name": "stdout",
     "output_type": "stream",
     "text": [
      "s21 \n"
     ]
    },
    {
     "name": "stdout",
     "output_type": "stream",
     "text": [
      "s22 \n"
     ]
    },
    {
     "name": "stdout",
     "output_type": "stream",
     "text": [
      "s24 \n"
     ]
    },
    {
     "name": "stdout",
     "output_type": "stream",
     "text": [
      "s25 \n"
     ]
    },
    {
     "name": "stdout",
     "output_type": "stream",
     "text": [
      "s26 \n"
     ]
    },
    {
     "name": "stdout",
     "output_type": "stream",
     "text": [
      "s27 \n"
     ]
    },
    {
     "name": "stdout",
     "output_type": "stream",
     "text": [
      "s28 \n"
     ]
    },
    {
     "name": "stdout",
     "output_type": "stream",
     "text": [
      "s29 \n"
     ]
    },
    {
     "name": "stdout",
     "output_type": "stream",
     "text": [
      "s30 \n"
     ]
    },
    {
     "name": "stdout",
     "output_type": "stream",
     "text": [
      "s31 \n"
     ]
    }
   ],
   "source": [
    "# Create a DCBC evaluation object of the desired evaluation parameters(left hemisphere)\n",
    "myDCBC = DCBC(hems='L', maxDist=35, binWidth=2.5, dist_file=\"distanceMatrix/distSphere_sp.mat\")\n",
    "\n",
    "# Do the valuation on the parcellation \n",
    "T = myDCBC.evaluate(parcels)"
   ]
  },
  {
   "cell_type": "markdown",
   "metadata": {},
   "source": [
    "**6. Plotting results**\n",
    "\n",
    "The helper function file `plotting.py` contains the plotting function `plot_wb_curve` to decode the result from previous steps. The output figure will be within- and between parcel correlation curve. A larger difference between the two curve indicates the given parcellation has better performance in predicting the underlying type data boundaires. Below is the example within- and between- curve for the left hemisphere of `Power 2011` parcellation. "
   ]
  },
  {
   "cell_type": "code",
   "execution_count": 10,
   "metadata": {},
   "outputs": [
    {
     "data": {
      "image/png": "[encoded data removed]",
      "text/plain": [
       "<Figure size 432x288 with 1 Axes>"
      ]
     },
     "metadata": {},
     "output_type": "display_data"
    }
   ],
   "source": [
    "# Plotting the within/between curve\n",
    "%matplotlib inline\n",
    "\n",
    "plot_wb_curve(T, path='data', hems='L')"
   ]
  },
  {
   "cell_type": "markdown",
   "metadata": {},
   "source": [
    "Finally, from the above result observation, we can compare the quality of different parcellations. If you want to get the real value of the curve at each bin, you can access to the returned dictionary structure."
   ]
  },
  {
   "cell_type": "code",
   "execution_count": null,
   "metadata": {},
   "outputs": [],
   "source": []
  }
 ],
 "metadata": {
  "kernelspec": {
   "display_name": "Python (myenv)",
   "language": "python",
   "name": "myenv"
  },
  "language_info": {
   "codemirror_mode": {
    "name": "ipython",
    "version": 3
   },
   "file_extension": ".py",
   "mimetype": "text/x-python",
   "name": "python",
   "nbconvert_exporter": "python",
   "pygments_lexer": "ipython3",
   "version": "3.7.6"
  }
 },
 "nbformat": 4,
 "nbformat_minor": 1
}
