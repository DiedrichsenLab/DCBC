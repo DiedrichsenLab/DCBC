{
 "cells": [
  {
   "cell_type": "markdown",
   "metadata": {
    "collapsed": true
   },
   "source": [
    "# Demonstration of DCBC evaluation usage \n",
    "This notebook simulates the DCBC evaluation of a given cortical parcellation. \n",
    "\n",
    "## Installation and Requirments\n",
    "\n",
    "Ensure Python version >= 3.6 and pip installed on your system.\n",
    "\n",
    "- Install Python at https://www.python.org/downloads/\n",
    "- Install pip: https://pip.pypa.io/en/stable/installing/\n",
    "\n",
    "## Dependencies\n",
    "\n",
    "`pip install nibabel scipy numpy sklearn matplotlib`\n",
    "\n",
    "## Project structre\n",
    "\n",
    "```\n",
    "project/\n",
    "│   README.md\n",
    "│   eval_DCBC.py\n",
    "│   plotting.py\n",
    "│   sample.py\n",
    "│   sample.ipynb\n",
    "│\n",
    "└───distanceMatrix/\n",
    "│       disAvrg_sp.mat\n",
    "│       ...\n",
    "│   \n",
    "└───parcellations/\n",
    "│       └───random/\n",
    "│       │       Icosahedron-42.32k.L.label.gii\n",
    "│       │       ...\n",
    "│       AAL.32k.L.label.gii\n",
    "│       ...\n",
    "│   \n",
    "└───data/\n",
    "        s02\n",
    "        s03\n",
    "\t...\n",
    "\ts31\n",
    "```\n",
    "\n",
    "## Usage\n",
    "Below is the sample script of using the DCBC evaluation"
   ]
  },
  {
   "cell_type": "code",
   "execution_count": null,
   "metadata": {},
   "outputs": [],
   "source": [
    "from eval_DCBC import DCBC\n",
    "from plotting import plot_wb_curve\n",
    "import nibabel as nb\n",
    "import numpy as np"
   ]
  }
 ],
 "metadata": {
  "kernelspec": {
   "display_name": "Python 3",
   "language": "python",
   "name": "python3"
  },
  "language_info": {
   "codemirror_mode": {
    "name": "ipython",
    "version": 3
   },
   "file_extension": ".py",
   "mimetype": "text/x-python",
   "name": "python",
   "nbconvert_exporter": "python",
   "pygments_lexer": "ipython3",
   "version": "3.6.6"
  }
 },
 "nbformat": 4,
 "nbformat_minor": 1
}
