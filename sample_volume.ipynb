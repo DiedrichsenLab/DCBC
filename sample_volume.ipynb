{
 "cells": [
  {
   "cell_type": "markdown",
   "metadata": {
    "collapsed": true
   },
   "source": [
    "# Demonstration of DCBC evaluation usage in volume space\n",
    "This notebook shows an example of a Distance controlled boundary coefficient (DCBC) evaluation of a striatum parcellation using the Multi-domain task battery (MDTB) functional dataset (glm7). \n",
    "\n",
    "## Installation and Requirments\n",
    "\n",
    "Ensure Python version >= 3.6 and pip installed on your system.\n",
    "\n",
    "- Install Python at https://www.python.org/downloads/\n",
    "- Install pip: https://pip.pypa.io/en/stable/installing/\n",
    "\n",
    "## Dependencies\n",
    "\n",
    "`pip install nibabel scipy numpy sklearn matplotlib`\n",
    "\n",
    "## Usage\n",
    "Below is a quick sample script of using the DCBC evaluation for evaluating `Choi 2012` 7 parcellation of striatum."
   ]
  },
  {
   "cell_type": "code",
   "execution_count": 2,
   "metadata": {},
   "outputs": [
    {
     "name": "stdout",
     "output_type": "stream",
     "text": [
      "data type not supported: struct, uint64\n"
     ]
    }
   ],
   "source": [
    "import numpy as np\n",
    "import scipy as sp\n",
    "from DCBC_vol import compute_dist, compute_DCBC\n",
    "import nibabel as nb\n",
    "import mat73\n",
    "from plotting import plot_single\n",
    "\n",
    "# Load mask voxel index\n",
    "vol_ind = mat73.loadmat('data/striatum_avrgDataStruct.mat')['volIndx']\n",
    "vol_ind = vol_ind.astype(int)\n"
   ]
  },
  {
   "cell_type": "markdown",
   "metadata": {},
   "source": [
    "The file `striatum_avrgDataStruct.mat` is the pre-processed data structure of our MDTB fmri data on striatum in volume space, including pre-whitened beta value and the mask volume index of the striatum. Now, we load the parcellation that we want to evaluate from the file given the volxel indices of the mask.\n",
    "Note: we first need to transfer the vol index to 3d coordinates by F-order. This is because MATLAB uses row-order to perform linear indexing, while numpy uses colume order."
   ]
  },
  {
   "cell_type": "code",
   "execution_count": 3,
   "metadata": {},
   "outputs": [
    {
     "name": "stdout",
     "output_type": "stream",
     "text": [
      "[5. 0. 5. ... 0. 6. 0.]\n"
     ]
    }
   ],
   "source": [
    "# Load parcellation given the mask file or voxel indices\n",
    "parcel_mni = nb.load('parcellations/volume_striatum/masked_par_choi_7.nii.gz').get_fdata()\n",
    "coord = np.unravel_index(vol_ind - 1, parcel_mni.shape, 'F')  # Note: the linear indexing in numpy is column-order\n",
    "parcels = np.rint(parcel_mni[coord[0], coord[1], coord[2]])\n",
    "print(parcels)"
   ]
  },
  {
   "cell_type": "markdown",
   "metadata": {},
   "source": [
    "We also need a pairwise distance matrix of all mask voxel indices for DCBC calcluation."
   ]
  },
  {
   "cell_type": "code",
   "execution_count": 4,
   "metadata": {},
   "outputs": [
    {
     "name": "stdout",
     "output_type": "stream",
     "text": [
      "[[ 0.         38.05259518 12.16552506 ... 69.3108938  67.94115101\n  68.93475176]\n [38.05259518  0.         26.         ... 51.57518783 51.2249939\n  50.99019514]\n [12.16552506 26.          0.         ... 62.09669879 60.95900262\n  61.6116872 ]\n ...\n [69.3108938  51.57518783 62.09669879 ...  0.          2.\n   2.        ]\n [67.94115101 51.2249939  60.95900262 ...  2.          0.\n   2.82842712]\n [68.93475176 50.99019514 61.6116872  ...  2.          2.82842712\n   0.        ]]\n"
     ]
    }
   ],
   "source": [
    "# Compute the distance matrix between voxel pairs using the mask file, numpy default C-order\n",
    "coord = np.asarray(coord).transpose()\n",
    "dist = compute_dist(coord, 2)\n",
    "print(dist)"
   ]
  },
  {
   "cell_type": "markdown",
   "metadata": {},
   "source": [
    "Here, we load subject functional data for DCBC evaluation and several experiment settings."
   ]
  },
  {
   "cell_type": "code",
   "execution_count": 5,
   "metadata": {},
   "outputs": [
    {
     "name": "stdout",
     "output_type": "stream",
     "text": [
      "data type not supported: struct, uint64\n"
     ]
    }
   ],
   "source": [
    "# Load functional profile (betas) and several parameters for evaluation settings\n",
    "T = mat73.loadmat('data/striatum_avrgDataStruct.mat')['T']\n",
    "returnsubj = [2,3,4,6,8,9,10,12,14,15,17,18,19,20,21,22,24,25,26,27,28,29,30,31]\n",
    "session, maxDist, binWidth = 1, 90, 5"
   ]
  },
  {
   "cell_type": "markdown",
   "metadata": {},
   "source": [
    "Now, we start the real DCBC evaluation on the given parcellation using selected subjects and given experiment settings. So here we set the bin width = 5 mm, the maximum distance between any pair of voxels is 90 mm. We only use subjects session 1 data."
   ]
  },
  {
   "cell_type": "code",
   "execution_count": 7,
   "metadata": {},
   "outputs": [],
   "source": [
    "wcorr_array, bcorr_array, dcbc_array = np.array([]), np.array([]), np.array([])\n",
    "for sub in returnsubj:\n",
    "    data = T['data'][(T['SN'] == sub) & (T['sess'] == session)].transpose()\n",
    "    R = compute_DCBC(maxDist=maxDist, func=data, dist=dist, binWidth=binWidth, parcellation=parcels)\n",
    "    wcorr_array = np.append(wcorr_array, R['corr_within'])\n",
    "    bcorr_array = np.append(bcorr_array, R['corr_between'])\n",
    "    dcbc_array = np.append(dcbc_array, R['DCBC'])\n",
    "\n",
    "# print(wcorr_array, bcorr_array, dcbc_array)"
   ]
  },
  {
   "cell_type": "markdown",
   "metadata": {},
   "source": [
    "After we finished the DCBC evalaution for all subjects, we plot the un-weighted within- and between-correlation curves. A bigger gap between two curves means the given parcellation has higher quality to functionally separate the brain regions. Otherwise, the parcellation cannot functionally separate the brain obviously. In the extrame, the two curves are the same for random parcellations."
   ]
  },
  {
   "cell_type": "code",
   "execution_count": 10,
   "metadata": {},
   "outputs": [
    {
     "data": {
      "image/png": "[encoded data removed]",
      "text/plain": [
       "<Figure size 432x288 with 1 Axes>"
      ]
     },
     "metadata": {},
     "output_type": "display_data"
    },
    {
     "name": "stdout",
     "output_type": "stream",
     "text": [
      "[0.01703593 0.0327379  0.00376956 0.01475464 0.00624606 0.00335091\n 0.0275695  0.03244851 0.01709353 0.00131853 0.01773563 0.0115281\n 0.00907436 0.04684011 0.01246886 0.01042326 0.0126392  0.01273811\n 0.05126503 0.00155614 0.01637881 0.01597363 0.01455931 0.00617436]\n"
     ]
    }
   ],
   "source": [
    "%matplotlib inline\n",
    "plot_single(within=wcorr_array, between=bcorr_array, maxDist=90, binWidth=5,\n",
    "                subjects=returnsubj, within_color='k', between_color='r')\n",
    "print(dcbc_array)"
   ]
  },
  {
   "cell_type": "code",
   "execution_count": null,
   "metadata": {},
   "outputs": [],
   "source": []
  }
 ],
 "metadata": {
  "kernelspec": {
   "display_name": "Python 3",
   "language": "python",
   "name": "python3"
  },
  "language_info": {
   "codemirror_mode": {
    "name": "ipython",
    "version": 3
   },
   "file_extension": ".py",
   "mimetype": "text/x-python",
   "name": "python",
   "nbconvert_exporter": "python",
   "pygments_lexer": "ipython3",
   "version": "3.6.6"
  }
 },
 "nbformat": 4,
 "nbformat_minor": 1
}
